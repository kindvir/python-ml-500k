{
  "nbformat": 4,
  "nbformat_minor": 0,
  "metadata": {
    "colab": {
      "provenance": []
    },
    "kernelspec": {
      "name": "python3",
      "display_name": "Python 3"
    },
    "language_info": {
      "name": "python"
    }
  },
  "cells": [
    {
      "cell_type": "code",
      "execution_count": 1,
      "metadata": {
        "colab": {
          "base_uri": "https://localhost:8080/"
        },
        "id": "5Sy5NGEjnhaf",
        "outputId": "4f5f0c36-ac58-4111-c00c-6a8a86306893"
      },
      "outputs": [
        {
          "output_type": "stream",
          "name": "stdout",
          "text": [
            "Hello KD! I'm kindvir and I'm starting my Python ML journey.\n",
            "I will make $500K with Python and ML.\n",
            "Today is my first step.\n"
          ]
        }
      ],
      "source": [
        "# KD's $500K Journey - Day 1\n",
        "print(\"Hello KD! I'm kindvir and I'm starting my Python ML journey.\")\n",
        "print(\"I will make $500K with Python and ML.\")\n",
        "print(\"Today is my first step.\")"
      ]
    },
    {
      "cell_type": "code",
      "source": [],
      "metadata": {
        "id": "Nza2Js5WoAQj"
      },
      "execution_count": 1,
      "outputs": []
    }
  ]
}