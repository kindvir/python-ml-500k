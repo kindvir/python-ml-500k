{
  "nbformat": 4,
  "nbformat_minor": 0,
  "metadata": {
    "colab": {
      "provenance": []
    },
    "kernelspec": {
      "name": "python3",
      "display_name": "Python 3"
    },
    "language_info": {
      "name": "python"
    }
  },
  "cells": [
    {
      "cell_type": "code",
      "execution_count": null,
      "metadata": {
        "colab": {
          "base_uri": "https://localhost:8080/"
        },
        "id": "5Sy5NGEjnhaf",
        "outputId": "4f5f0c36-ac58-4111-c00c-6a8a86306893"
      },
      "outputs": [
        {
          "output_type": "stream",
          "name": "stdout",
          "text": [
            "Hello KD! I'm kindvir and I'm starting my Python ML journey.\n",
            "I will make $500K with Python and ML.\n",
            "Today is my first step.\n"
          ]
        }
      ],
      "source": [
        "# KD's $500K Journey - Day 1\n",
        "print(\"Hello KD! I'm kindvir and I'm starting my Python ML journey.\")\n",
        "print(\"I will make $500K with Python and ML.\")\n",
        "print(\"Today is my first step.\")"
      ]
    },
    {
      "cell_type": "code",
      "source": [
        "# DAY 2: Variables (Auto-saved to GitHub!)\n",
        "name = \"KD\"\n",
        "goal = 500000\n",
        "print(f\"{name}'s goal: ${goal:,}\")"
      ],
      "metadata": {
        "id": "Nza2Js5WoAQj",
        "colab": {
          "base_uri": "https://localhost:8080/"
        },
        "outputId": "85a99d09-8454-46c5-c70d-c0f62e6999d3"
      },
      "execution_count": 1,
      "outputs": [
        {
          "output_type": "stream",
          "name": "stdout",
          "text": [
            "KD's goal: $500,000\n"
          ]
        }
      ]
    },
    {
      "cell_type": "code",
      "source": [],
      "metadata": {
        "id": "9_pGpWJQr2qg"
      },
      "execution_count": 1,
      "outputs": []
    }
  ]
}